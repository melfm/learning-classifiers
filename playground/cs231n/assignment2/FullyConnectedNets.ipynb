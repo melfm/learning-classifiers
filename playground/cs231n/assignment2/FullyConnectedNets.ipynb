{
 "cells": [
  {
   "cell_type": "markdown",
   "metadata": {},
   "source": [
    "# Fully-Connected Neural Nets\n",
    "In the previous homework you implemented a fully-connected two-layer neural network on CIFAR-10. The implementation was simple but not very modular since the loss and gradient were computed in a single monolithic function. This is manageable for a simple two-layer network, but would become impractical as we move to bigger models. Ideally we want to build networks using a more modular design so that we can implement different layer types in isolation and then snap them together into models with different architectures.\n",
    "\n",
    "In this exercise we will implement fully-connected networks using a more modular approach. For each layer we will implement a `forward` and a `backward` function. The `forward` function will receive inputs, weights, and other parameters and will return both an output and a `cache` object storing data needed for the backward pass, like this:\n",
    "\n",
    "```python\n",
    "def layer_forward(x, w):\n",
    "  \"\"\" Receive inputs x and weights w \"\"\"\n",
    "  # Do some computations ...\n",
    "  z = # ... some intermediate value\n",
    "  # Do some more computations ...\n",
    "  out = # the output\n",
    "   \n",
    "  cache = (x, w, z, out) # Values we need to compute gradients\n",
    "   \n",
    "  return out, cache\n",
    "```\n",
    "\n",
    "The backward pass will receive upstream derivatives and the `cache` object, and will return gradients with respect to the inputs and weights, like this:\n",
    "\n",
    "```python\n",
    "def layer_backward(dout, cache):\n",
    "  \"\"\"\n",
    "  Receive dout (derivative of loss with respect to outputs) and cache,\n",
    "  and compute derivative with respect to inputs.\n",
    "  \"\"\"\n",
    "  # Unpack cache values\n",
    "  x, w, z, out = cache\n",
    "  \n",
    "  # Use values in cache to compute derivatives\n",
    "  dx = # Derivative of loss with respect to x\n",
    "  dw = # Derivative of loss with respect to w\n",
    "  \n",
    "  return dx, dw\n",
    "```\n",
    "\n",
    "After implementing a bunch of layers this way, we will be able to easily combine them to build classifiers with different architectures.\n",
    "\n",
    "In addition to implementing fully-connected networks of arbitrary depth, we will also explore different update rules for optimization, and introduce Dropout as a regularizer and Batch/Layer Normalization as a tool to more efficiently optimize deep networks.\n",
    "  "
   ]
  },
  {
   "cell_type": "code",
   "execution_count": 1,
   "metadata": {
    "collapsed": false
   },
   "outputs": [
    {
     "name": "stdout",
     "output_type": "stream",
     "text": [
      "run the following from the cs231n directory and try again:\n",
      "python setup.py build_ext --inplace\n",
      "You may also need to restart your iPython kernel\n"
     ]
    }
   ],
   "source": [
    "# As usual, a bit of setup\n",
    "from __future__ import print_function\n",
    "import time\n",
    "import numpy as np\n",
    "import matplotlib.pyplot as plt\n",
    "from cs231n.classifiers.fc_net import *\n",
    "from cs231n.data_utils import get_CIFAR10_data\n",
    "from cs231n.gradient_check import eval_numerical_gradient, eval_numerical_gradient_array\n",
    "from cs231n.solver import Solver\n",
    "\n",
    "%matplotlib inline\n",
    "plt.rcParams['figure.figsize'] = (10.0, 8.0) # set default size of plots\n",
    "plt.rcParams['image.interpolation'] = 'nearest'\n",
    "plt.rcParams['image.cmap'] = 'gray'\n",
    "\n",
    "# for auto-reloading external modules\n",
    "# see http://stackoverflow.com/questions/1907993/autoreload-of-modules-in-ipython\n",
    "%load_ext autoreload\n",
    "%autoreload 2\n",
    "\n",
    "def rel_error(x, y):\n",
    "  \"\"\" returns relative error \"\"\"\n",
    "  return np.max(np.abs(x - y) / (np.maximum(1e-8, np.abs(x) + np.abs(y))))"
   ]
  },
  {
   "cell_type": "code",
   "execution_count": 2,
   "metadata": {
    "collapsed": false
   },
   "outputs": [
    {
     "name": "stdout",
     "output_type": "stream",
     "text": [
      "('X_train: ', (49000, 3, 32, 32))\n",
      "('y_train: ', (49000,))\n",
      "('y_val: ', (1000,))\n",
      "('y_test: ', (1000,))\n",
      "('X_test: ', (1000, 3, 32, 32))\n",
      "('X_val: ', (1000, 3, 32, 32))\n"
     ]
    }
   ],
   "source": [
    "# Load the (preprocessed) CIFAR10 data.\n",
    "\n",
    "data = get_CIFAR10_data()\n",
    "for k, v in list(data.items()):\n",
    "  print(('%s: ' % k, v.shape))"
   ]
  },
  {
   "cell_type": "markdown",
   "metadata": {},
   "source": [
    "# Affine layer: foward\n",
    "Open the file `cs231n/layers.py` and implement the `affine_forward` function.\n",
    "\n",
    "Once you are done you can test your implementaion by running the following:"
   ]
  },
  {
   "cell_type": "code",
   "execution_count": 3,
   "metadata": {
    "collapsed": false
   },
   "outputs": [
    {
     "name": "stdout",
     "output_type": "stream",
     "text": [
      "Testing affine_forward function:\n",
      "difference:  9.76984946819e-10\n"
     ]
    }
   ],
   "source": [
    "# Test the affine_forward function\n",
    "\n",
    "num_inputs = 2\n",
    "input_shape = (4, 5, 6)\n",
    "output_dim = 3\n",
    "\n",
    "input_size = num_inputs * np.prod(input_shape)\n",
    "weight_size = output_dim * np.prod(input_shape)\n",
    "\n",
    "x = np.linspace(-0.1, 0.5, num=input_size).reshape(num_inputs, *input_shape)\n",
    "w = np.linspace(-0.2, 0.3, num=weight_size).reshape(np.prod(input_shape), output_dim)\n",
    "b = np.linspace(-0.3, 0.1, num=output_dim)\n",
    "\n",
    "out, _ = affine_forward(x, w, b)\n",
    "correct_out = np.array([[ 1.49834967,  1.70660132,  1.91485297],\n",
    "                        [ 3.25553199,  3.5141327,   3.77273342]])\n",
    "\n",
    "# Compare your output with ours. The error should be around e-9 or less.\n",
    "print('Testing affine_forward function:')\n",
    "print('difference: ', rel_error(out, correct_out))"
   ]
  },
  {
   "cell_type": "markdown",
   "metadata": {},
   "source": [
    "# Affine layer: backward\n",
    "Now implement the `affine_backward` function and test your implementation using numeric gradient checking."
   ]
  },
  {
   "cell_type": "code",
   "execution_count": 4,
   "metadata": {
    "collapsed": false
   },
   "outputs": [
    {
     "name": "stdout",
     "output_type": "stream",
     "text": [
      "Testing affine_backward function:\n",
      "dx error:  5.39910036865e-11\n",
      "dw error:  9.9042118654e-11\n",
      "db error:  2.41228675681e-11\n"
     ]
    }
   ],
   "source": [
    "# Test the affine_backward function\n",
    "np.random.seed(231)\n",
    "x = np.random.randn(10, 2, 3)\n",
    "w = np.random.randn(6, 5)\n",
    "b = np.random.randn(5)\n",
    "dout = np.random.randn(10, 5)\n",
    "\n",
    "dx_num = eval_numerical_gradient_array(lambda x: affine_forward(x, w, b)[0], x, dout)\n",
    "dw_num = eval_numerical_gradient_array(lambda w: affine_forward(x, w, b)[0], w, dout)\n",
    "db_num = eval_numerical_gradient_array(lambda b: affine_forward(x, w, b)[0], b, dout)\n",
    "\n",
    "_, cache = affine_forward(x, w, b)\n",
    "dx, dw, db = affine_backward(dout, cache)\n",
    "\n",
    "# The error should be around e-10 or less\n",
    "print('Testing affine_backward function:')\n",
    "print('dx error: ', rel_error(dx_num, dx))\n",
    "print('dw error: ', rel_error(dw_num, dw))\n",
    "print('db error: ', rel_error(db_num, db))"
   ]
  },
  {
   "cell_type": "markdown",
   "metadata": {},
   "source": [
    "# ReLU activation: forward\n",
    "Implement the forward pass for the ReLU activation function in the `relu_forward` function and test your implementation using the following:"
   ]
  },
  {
   "cell_type": "code",
   "execution_count": 5,
   "metadata": {
    "collapsed": false
   },
   "outputs": [
    {
     "name": "stdout",
     "output_type": "stream",
     "text": [
      "Testing relu_forward function:\n",
      "difference:  4.99999979802e-08\n"
     ]
    }
   ],
   "source": [
    "# Test the relu_forward function\n",
    "\n",
    "x = np.linspace(-0.5, 0.5, num=12).reshape(3, 4)\n",
    "\n",
    "out, _ = relu_forward(x)\n",
    "correct_out = np.array([[ 0.,          0.,          0.,          0.,        ],\n",
    "                        [ 0.,          0.,          0.04545455,  0.13636364,],\n",
    "                        [ 0.22727273,  0.31818182,  0.40909091,  0.5,       ]])\n",
    "\n",
    "# Compare your output with ours. The error should be on the order of e-8\n",
    "print('Testing relu_forward function:')\n",
    "print('difference: ', rel_error(out, correct_out))"
   ]
  },
  {
   "cell_type": "markdown",
   "metadata": {},
   "source": [
    "# ReLU activation: backward\n",
    "Now implement the backward pass for the ReLU activation function in the `relu_backward` function and test your implementation using numeric gradient checking:"
   ]
  },
  {
   "cell_type": "code",
   "execution_count": 6,
   "metadata": {
    "collapsed": false
   },
   "outputs": [
    {
     "name": "stdout",
     "output_type": "stream",
     "text": [
      "Testing relu_backward function:\n",
      "dx error:  3.27563491363e-12\n"
     ]
    }
   ],
   "source": [
    "np.random.seed(231)\n",
    "x = np.random.randn(10, 10)\n",
    "dout = np.random.randn(*x.shape)\n",
    "\n",
    "dx_num = eval_numerical_gradient_array(lambda x: relu_forward(x)[0], x, dout)\n",
    "\n",
    "_, cache = relu_forward(x)\n",
    "dx = relu_backward(dout, cache)\n",
    "\n",
    "# The error should be on the order of e-12\n",
    "print('Testing relu_backward function:')\n",
    "print('dx error: ', rel_error(dx_num, dx))"
   ]
  },
  {
   "cell_type": "markdown",
   "metadata": {},
   "source": [
    "## Inline Question 1: \n",
    "\n",
    "We've only asked you to implement ReLU, but there are a number of different activation functions that one could use in neural networks, each with its pros and cons. In particular, an issue commonly seen with activation functions is getting zero (or close to zero) gradient flow during backpropagation. Which of the following activation functions have this problem? If you consider these functions in the one dimensional case, what types of input would lead to this behaviour?\n",
    "1. Sigmoid\n",
    "2. ReLU\n",
    "3. Leaky ReLU"
   ]
  },
  {
   "cell_type": "markdown",
   "metadata": {},
   "source": [
    "## Answer:\n",
    "[FILL THIS IN]\n"
   ]
  },
  {
   "cell_type": "markdown",
   "metadata": {},
   "source": [
    "# \"Sandwich\" layers\n",
    "There are some common patterns of layers that are frequently used in neural nets. For example, affine layers are frequently followed by a ReLU nonlinearity. To make these common patterns easy, we define several convenience layers in the file `cs231n/layer_utils.py`.\n",
    "\n",
    "For now take a look at the `affine_relu_forward` and `affine_relu_backward` functions, and run the following to numerically gradient check the backward pass:"
   ]
  },
  {
   "cell_type": "code",
   "execution_count": null,
   "metadata": {
    "collapsed": false
   },
   "outputs": [],
   "source": [
    "from cs231n.layer_utils import affine_relu_forward, affine_relu_backward\n",
    "np.random.seed(231)\n",
    "x = np.random.randn(2, 3, 4)\n",
    "w = np.random.randn(12, 10)\n",
    "b = np.random.randn(10)\n",
    "dout = np.random.randn(2, 10)\n",
    "\n",
    "out, cache = affine_relu_forward(x, w, b)\n",
    "dx, dw, db = affine_relu_backward(dout, cache)\n",
    "\n",
    "dx_num = eval_numerical_gradient_array(lambda x: affine_relu_forward(x, w, b)[0], x, dout)\n",
    "dw_num = eval_numerical_gradient_array(lambda w: affine_relu_forward(x, w, b)[0], w, dout)\n",
    "db_num = eval_numerical_gradient_array(lambda b: affine_relu_forward(x, w, b)[0], b, dout)\n",
    "\n",
    "# Relative error should be around e-10 or less\n",
    "print('Testing affine_relu_forward and affine_relu_backward:')\n",
    "print('dx error: ', rel_error(dx_num, dx))\n",
    "print('dw error: ', rel_error(dw_num, dw))\n",
    "print('db error: ', rel_error(db_num, db))"
   ]
  },
  {
   "cell_type": "markdown",
   "metadata": {},
   "source": [
    "# Loss layers: Softmax and SVM\n",
    "You implemented these loss functions in the last assignment, so we'll give them to you for free here. You should still make sure you understand how they work by looking at the implementations in `cs231n/layers.py`.\n",
    "\n",
    "You can make sure that the implementations are correct by running the following:"
   ]
  },
  {
   "cell_type": "code",
   "execution_count": 44,
   "metadata": {
    "collapsed": false
   },
   "outputs": [
    {
     "name": "stdout",
     "output_type": "stream",
     "text": [
      "Testing svm_loss:\n",
      "loss:  8.9996027491\n",
      "dx error:  1.40215660067e-09\n",
      "\n",
      "Testing softmax_loss:\n",
      "loss:  2.3025458445\n",
      "dx error:  9.38467316199e-09\n"
     ]
    }
   ],
   "source": [
    "np.random.seed(231)\n",
    "num_classes, num_inputs = 10, 50\n",
    "x = 0.001 * np.random.randn(num_inputs, num_classes)\n",
    "y = np.random.randint(num_classes, size=num_inputs)\n",
    "\n",
    "dx_num = eval_numerical_gradient(lambda x: svm_loss(x, y)[0], x, verbose=False)\n",
    "loss, dx = svm_loss(x, y)\n",
    "\n",
    "# Test svm_loss function. Loss should be around 9 and dx error should be around the order of e-9\n",
    "print('Testing svm_loss:')\n",
    "print('loss: ', loss)\n",
    "print('dx error: ', rel_error(dx_num, dx))\n",
    "\n",
    "dx_num = eval_numerical_gradient(lambda x: softmax_loss(x, y)[0], x, verbose=False)\n",
    "loss, dx = softmax_loss(x, y)\n",
    "\n",
    "# Test softmax_loss function. Loss should be close to 2.3 and dx error should be around e-8\n",
    "print('\\nTesting softmax_loss:')\n",
    "print('loss: ', loss)\n",
    "print('dx error: ', rel_error(dx_num, dx))"
   ]
  },
  {
   "cell_type": "markdown",
   "metadata": {},
   "source": [
    "# Two-layer network\n",
    "In the previous assignment you implemented a two-layer neural network in a single monolithic class. Now that you have implemented modular versions of the necessary layers, you will reimplement the two layer network using these modular implementations.\n",
    "\n",
    "Open the file `cs231n/classifiers/fc_net.py` and complete the implementation of the `TwoLayerNet` class. This class will serve as a model for the other networks you will implement in this assignment, so read through it to make sure you understand the API. You can run the cell below to test your implementation."
   ]
  },
  {
   "cell_type": "code",
   "execution_count": null,
   "metadata": {
    "collapsed": false
   },
   "outputs": [],
   "source": [
    "np.random.seed(231)\n",
    "N, D, H, C = 3, 5, 50, 7\n",
    "X = np.random.randn(N, D)\n",
    "y = np.random.randint(C, size=N)\n",
    "\n",
    "std = 1e-3\n",
    "model = TwoLayerNet(input_dim=D, hidden_dim=H, num_classes=C, weight_scale=std)\n",
    "\n",
    "print('Testing initialization ... ')\n",
    "W1_std = abs(model.params['W1'].std() - std)\n",
    "b1 = model.params['b1']\n",
    "W2_std = abs(model.params['W2'].std() - std)\n",
    "b2 = model.params['b2']\n",
    "assert W1_std < std / 10, 'First layer weights do not seem right'\n",
    "assert np.all(b1 == 0), 'First layer biases do not seem right'\n",
    "assert W2_std < std / 10, 'Second layer weights do not seem right'\n",
    "assert np.all(b2 == 0), 'Second layer biases do not seem right'\n",
    "\n",
    "print('Testing test-time forward pass ... ')\n",
    "model.params['W1'] = np.linspace(-0.7, 0.3, num=D*H).reshape(D, H)\n",
    "model.params['b1'] = np.linspace(-0.1, 0.9, num=H)\n",
    "model.params['W2'] = np.linspace(-0.3, 0.4, num=H*C).reshape(H, C)\n",
    "model.params['b2'] = np.linspace(-0.9, 0.1, num=C)\n",
    "X = np.linspace(-5.5, 4.5, num=N*D).reshape(D, N).T\n",
    "scores = model.loss(X)\n",
    "correct_scores = np.asarray(\n",
    "  [[11.53165108,  12.2917344,   13.05181771,  13.81190102,  14.57198434, 15.33206765,  16.09215096],\n",
    "   [12.05769098,  12.74614105,  13.43459113,  14.1230412,   14.81149128, 15.49994135,  16.18839143],\n",
    "   [12.58373087,  13.20054771,  13.81736455,  14.43418138,  15.05099822, 15.66781506,  16.2846319 ]])\n",
    "scores_diff = np.abs(scores - correct_scores).sum()\n",
    "assert scores_diff < 1e-6, 'Problem with test-time forward pass'\n",
    "\n",
    "print('Testing training loss (no regularization)')\n",
    "y = np.asarray([0, 5, 1])\n",
    "loss, grads = model.loss(X, y)\n",
    "correct_loss = 3.4702243556\n",
    "assert abs(loss - correct_loss) < 1e-10, 'Problem with training-time loss'\n",
    "\n",
    "model.reg = 1.0\n",
    "loss, grads = model.loss(X, y)\n",
    "correct_loss = 26.5948426952\n",
    "assert abs(loss - correct_loss) < 1e-10, 'Problem with regularization loss'\n",
    "\n",
    "# Errors should be around e-7 or less\n",
    "for reg in [0.0, 0.7]:\n",
    "  print('Running numeric gradient check with reg = ', reg)\n",
    "  model.reg = reg\n",
    "  loss, grads = model.loss(X, y)\n",
    "\n",
    "  for name in sorted(grads):\n",
    "    f = lambda _: model.loss(X, y)[0]\n",
    "    grad_num = eval_numerical_gradient(f, model.params[name], verbose=False)\n",
    "    print('%s relative error: %.2e' % (name, rel_error(grad_num, grads[name])))"
   ]
  },
  {
   "cell_type": "markdown",
   "metadata": {},
   "source": [
    "# Solver\n",
    "In the previous assignment, the logic for training models was coupled to the models themselves. Following a more modular design, for this assignment we have split the logic for training models into a separate class.\n",
    "\n",
    "Open the file `cs231n/solver.py` and read through it to familiarize yourself with the API. After doing so, use a `Solver` instance to train a `TwoLayerNet` that achieves at least `50%` accuracy on the validation set."
   ]
  },
  {
   "cell_type": "code",
   "execution_count": 46,
   "metadata": {
    "collapsed": false
   },
   "outputs": [
    {
     "name": "stdout",
     "output_type": "stream",
     "text": [
      "(Iteration 1 / 16300) loss: 2.308572\n",
      "(Epoch 0 / 100) train acc: 0.116000; val_acc: 0.135000\n",
      "(Iteration 101 / 16300) loss: 1.729065\n",
      "(Epoch 1 / 100) train acc: 0.407000; val_acc: 0.425000\n",
      "(Iteration 201 / 16300) loss: 1.592653\n",
      "(Iteration 301 / 16300) loss: 1.604295\n",
      "(Epoch 2 / 100) train acc: 0.495000; val_acc: 0.442000\n",
      "(Iteration 401 / 16300) loss: 1.457768\n",
      "(Epoch 3 / 100) train acc: 0.484000; val_acc: 0.473000\n",
      "(Iteration 501 / 16300) loss: 1.324947\n",
      "(Iteration 601 / 16300) loss: 1.361337\n",
      "(Epoch 4 / 100) train acc: 0.510000; val_acc: 0.486000\n",
      "(Iteration 701 / 16300) loss: 1.383521\n",
      "(Iteration 801 / 16300) loss: 1.384973\n",
      "(Epoch 5 / 100) train acc: 0.538000; val_acc: 0.493000\n",
      "(Iteration 901 / 16300) loss: 1.245455\n",
      "(Epoch 6 / 100) train acc: 0.545000; val_acc: 0.525000\n",
      "(Iteration 1001 / 16300) loss: 1.232111\n",
      "(Iteration 1101 / 16300) loss: 1.273807\n",
      "(Epoch 7 / 100) train acc: 0.553000; val_acc: 0.499000\n",
      "(Iteration 1201 / 16300) loss: 1.213864\n",
      "(Iteration 1301 / 16300) loss: 1.166839\n",
      "(Epoch 8 / 100) train acc: 0.567000; val_acc: 0.506000\n",
      "(Iteration 1401 / 16300) loss: 1.256407\n",
      "(Epoch 9 / 100) train acc: 0.627000; val_acc: 0.509000\n",
      "(Iteration 1501 / 16300) loss: 1.162724\n",
      "(Iteration 1601 / 16300) loss: 1.183068\n",
      "(Epoch 10 / 100) train acc: 0.576000; val_acc: 0.515000\n",
      "(Iteration 1701 / 16300) loss: 1.229797\n",
      "(Epoch 11 / 100) train acc: 0.585000; val_acc: 0.507000\n",
      "(Iteration 1801 / 16300) loss: 1.134178\n",
      "(Iteration 1901 / 16300) loss: 1.194523\n",
      "(Epoch 12 / 100) train acc: 0.593000; val_acc: 0.511000\n",
      "(Iteration 2001 / 16300) loss: 1.156229\n",
      "(Iteration 2101 / 16300) loss: 1.128415\n",
      "(Epoch 13 / 100) train acc: 0.616000; val_acc: 0.527000\n",
      "(Iteration 2201 / 16300) loss: 1.207286\n",
      "(Epoch 14 / 100) train acc: 0.600000; val_acc: 0.540000\n",
      "(Iteration 2301 / 16300) loss: 1.058176\n",
      "(Iteration 2401 / 16300) loss: 1.055042\n",
      "(Epoch 15 / 100) train acc: 0.645000; val_acc: 0.532000\n",
      "(Iteration 2501 / 16300) loss: 1.055363\n",
      "(Iteration 2601 / 16300) loss: 0.966829\n",
      "(Epoch 16 / 100) train acc: 0.652000; val_acc: 0.528000\n",
      "(Iteration 2701 / 16300) loss: 0.969641\n",
      "(Epoch 17 / 100) train acc: 0.628000; val_acc: 0.544000\n",
      "(Iteration 2801 / 16300) loss: 1.052633\n",
      "(Iteration 2901 / 16300) loss: 0.979100\n",
      "(Epoch 18 / 100) train acc: 0.662000; val_acc: 0.531000\n",
      "(Iteration 3001 / 16300) loss: 1.097711\n",
      "(Epoch 19 / 100) train acc: 0.675000; val_acc: 0.530000\n",
      "(Iteration 3101 / 16300) loss: 1.071354\n",
      "(Iteration 3201 / 16300) loss: 1.004711\n",
      "(Epoch 20 / 100) train acc: 0.665000; val_acc: 0.527000\n",
      "(Iteration 3301 / 16300) loss: 0.967036\n",
      "(Iteration 3401 / 16300) loss: 1.041724\n",
      "(Epoch 21 / 100) train acc: 0.696000; val_acc: 0.537000\n",
      "(Iteration 3501 / 16300) loss: 1.067509\n",
      "(Epoch 22 / 100) train acc: 0.673000; val_acc: 0.532000\n",
      "(Iteration 3601 / 16300) loss: 0.997249\n",
      "(Iteration 3701 / 16300) loss: 0.872601\n",
      "(Epoch 23 / 100) train acc: 0.674000; val_acc: 0.545000\n",
      "(Iteration 3801 / 16300) loss: 0.906666\n",
      "(Iteration 3901 / 16300) loss: 0.856238\n",
      "(Epoch 24 / 100) train acc: 0.708000; val_acc: 0.530000\n",
      "(Iteration 4001 / 16300) loss: 0.895847\n",
      "(Epoch 25 / 100) train acc: 0.694000; val_acc: 0.538000\n",
      "(Iteration 4101 / 16300) loss: 0.982642\n",
      "(Iteration 4201 / 16300) loss: 0.923893\n",
      "(Epoch 26 / 100) train acc: 0.669000; val_acc: 0.533000\n",
      "(Iteration 4301 / 16300) loss: 0.950328\n",
      "(Iteration 4401 / 16300) loss: 0.864869\n",
      "(Epoch 27 / 100) train acc: 0.731000; val_acc: 0.539000\n",
      "(Iteration 4501 / 16300) loss: 0.955133\n",
      "(Epoch 28 / 100) train acc: 0.720000; val_acc: 0.535000\n",
      "(Iteration 4601 / 16300) loss: 0.905905\n",
      "(Iteration 4701 / 16300) loss: 0.808211\n",
      "(Epoch 29 / 100) train acc: 0.711000; val_acc: 0.541000\n",
      "(Iteration 4801 / 16300) loss: 0.952981\n",
      "(Epoch 30 / 100) train acc: 0.701000; val_acc: 0.544000\n",
      "(Iteration 4901 / 16300) loss: 0.846386\n",
      "(Iteration 5001 / 16300) loss: 0.839695\n",
      "(Epoch 31 / 100) train acc: 0.722000; val_acc: 0.540000\n",
      "(Iteration 5101 / 16300) loss: 0.838987\n",
      "(Iteration 5201 / 16300) loss: 0.862535\n",
      "(Epoch 32 / 100) train acc: 0.721000; val_acc: 0.551000\n",
      "(Iteration 5301 / 16300) loss: 0.861546\n",
      "(Epoch 33 / 100) train acc: 0.741000; val_acc: 0.548000\n",
      "(Iteration 5401 / 16300) loss: 0.845708\n",
      "(Iteration 5501 / 16300) loss: 0.814339\n",
      "(Epoch 34 / 100) train acc: 0.747000; val_acc: 0.538000\n",
      "(Iteration 5601 / 16300) loss: 0.777271\n",
      "(Iteration 5701 / 16300) loss: 0.818883\n",
      "(Epoch 35 / 100) train acc: 0.736000; val_acc: 0.544000\n",
      "(Iteration 5801 / 16300) loss: 0.842824\n",
      "(Epoch 36 / 100) train acc: 0.753000; val_acc: 0.559000\n",
      "(Iteration 5901 / 16300) loss: 0.773318\n",
      "(Iteration 6001 / 16300) loss: 0.808334\n",
      "(Epoch 37 / 100) train acc: 0.728000; val_acc: 0.543000\n",
      "(Iteration 6101 / 16300) loss: 0.784949\n",
      "(Epoch 38 / 100) train acc: 0.759000; val_acc: 0.546000\n",
      "(Iteration 6201 / 16300) loss: 0.831599\n",
      "(Iteration 6301 / 16300) loss: 0.769998\n",
      "(Epoch 39 / 100) train acc: 0.732000; val_acc: 0.539000\n",
      "(Iteration 6401 / 16300) loss: 0.794015\n",
      "(Iteration 6501 / 16300) loss: 0.809580\n",
      "(Epoch 40 / 100) train acc: 0.727000; val_acc: 0.542000\n",
      "(Iteration 6601 / 16300) loss: 0.781077\n",
      "(Epoch 41 / 100) train acc: 0.752000; val_acc: 0.551000\n",
      "(Iteration 6701 / 16300) loss: 0.768038\n",
      "(Iteration 6801 / 16300) loss: 0.857170\n",
      "(Epoch 42 / 100) train acc: 0.757000; val_acc: 0.543000\n",
      "(Iteration 6901 / 16300) loss: 0.771646\n",
      "(Iteration 7001 / 16300) loss: 0.787978\n",
      "(Epoch 43 / 100) train acc: 0.737000; val_acc: 0.555000\n",
      "(Iteration 7101 / 16300) loss: 0.834103\n",
      "(Epoch 44 / 100) train acc: 0.742000; val_acc: 0.547000\n",
      "(Iteration 7201 / 16300) loss: 0.759088\n",
      "(Iteration 7301 / 16300) loss: 0.783678\n",
      "(Epoch 45 / 100) train acc: 0.723000; val_acc: 0.543000\n",
      "(Iteration 7401 / 16300) loss: 0.747155\n",
      "(Epoch 46 / 100) train acc: 0.755000; val_acc: 0.536000\n",
      "(Iteration 7501 / 16300) loss: 0.749638\n",
      "(Iteration 7601 / 16300) loss: 0.728351\n",
      "(Epoch 47 / 100) train acc: 0.773000; val_acc: 0.543000\n",
      "(Iteration 7701 / 16300) loss: 0.703112\n",
      "(Iteration 7801 / 16300) loss: 0.801768\n",
      "(Epoch 48 / 100) train acc: 0.775000; val_acc: 0.550000\n",
      "(Iteration 7901 / 16300) loss: 0.724551\n",
      "(Epoch 49 / 100) train acc: 0.786000; val_acc: 0.549000\n",
      "(Iteration 8001 / 16300) loss: 0.802430\n",
      "(Iteration 8101 / 16300) loss: 0.748204\n",
      "(Epoch 50 / 100) train acc: 0.774000; val_acc: 0.545000\n",
      "(Iteration 8201 / 16300) loss: 0.741631\n",
      "(Iteration 8301 / 16300) loss: 0.739008\n",
      "(Epoch 51 / 100) train acc: 0.781000; val_acc: 0.536000\n",
      "(Iteration 8401 / 16300) loss: 0.814869\n",
      "(Epoch 52 / 100) train acc: 0.752000; val_acc: 0.540000\n",
      "(Iteration 8501 / 16300) loss: 0.721064\n",
      "(Iteration 8601 / 16300) loss: 0.705196\n",
      "(Epoch 53 / 100) train acc: 0.754000; val_acc: 0.541000\n",
      "(Iteration 8701 / 16300) loss: 0.747896\n",
      "(Iteration 8801 / 16300) loss: 0.699606\n",
      "(Epoch 54 / 100) train acc: 0.771000; val_acc: 0.542000\n",
      "(Iteration 8901 / 16300) loss: 0.735872\n",
      "(Epoch 55 / 100) train acc: 0.782000; val_acc: 0.540000\n",
      "(Iteration 9001 / 16300) loss: 0.650277\n",
      "(Iteration 9101 / 16300) loss: 0.781638\n",
      "(Epoch 56 / 100) train acc: 0.769000; val_acc: 0.543000\n",
      "(Iteration 9201 / 16300) loss: 0.710848\n",
      "(Epoch 57 / 100) train acc: 0.787000; val_acc: 0.538000\n",
      "(Iteration 9301 / 16300) loss: 0.771832\n",
      "(Iteration 9401 / 16300) loss: 0.702679\n",
      "(Epoch 58 / 100) train acc: 0.777000; val_acc: 0.543000\n",
      "(Iteration 9501 / 16300) loss: 0.753252\n",
      "(Iteration 9601 / 16300) loss: 0.722251\n",
      "(Epoch 59 / 100) train acc: 0.774000; val_acc: 0.550000\n",
      "(Iteration 9701 / 16300) loss: 0.692717\n",
      "(Epoch 60 / 100) train acc: 0.771000; val_acc: 0.550000\n",
      "(Iteration 9801 / 16300) loss: 0.726049\n",
      "(Iteration 9901 / 16300) loss: 0.720322\n",
      "(Epoch 61 / 100) train acc: 0.777000; val_acc: 0.550000\n",
      "(Iteration 10001 / 16300) loss: 0.674713\n",
      "(Iteration 10101 / 16300) loss: 0.702074\n",
      "(Epoch 62 / 100) train acc: 0.781000; val_acc: 0.547000\n",
      "(Iteration 10201 / 16300) loss: 0.710770\n",
      "(Epoch 63 / 100) train acc: 0.743000; val_acc: 0.548000\n",
      "(Iteration 10301 / 16300) loss: 0.760460\n",
      "(Iteration 10401 / 16300) loss: 0.743838\n",
      "(Epoch 64 / 100) train acc: 0.758000; val_acc: 0.548000\n",
      "(Iteration 10501 / 16300) loss: 0.663463\n",
      "(Epoch 65 / 100) train acc: 0.792000; val_acc: 0.551000\n",
      "(Iteration 10601 / 16300) loss: 0.648550\n",
      "(Iteration 10701 / 16300) loss: 0.763475\n",
      "(Epoch 66 / 100) train acc: 0.791000; val_acc: 0.548000\n",
      "(Iteration 10801 / 16300) loss: 0.855068\n",
      "(Iteration 10901 / 16300) loss: 0.767088\n",
      "(Epoch 67 / 100) train acc: 0.770000; val_acc: 0.540000\n",
      "(Iteration 11001 / 16300) loss: 0.758267\n",
      "(Epoch 68 / 100) train acc: 0.799000; val_acc: 0.546000\n",
      "(Iteration 11101 / 16300) loss: 0.693175\n",
      "(Iteration 11201 / 16300) loss: 0.750014\n",
      "(Epoch 69 / 100) train acc: 0.775000; val_acc: 0.550000\n",
      "(Iteration 11301 / 16300) loss: 0.690707\n",
      "(Iteration 11401 / 16300) loss: 0.740328\n",
      "(Epoch 70 / 100) train acc: 0.785000; val_acc: 0.548000\n",
      "(Iteration 11501 / 16300) loss: 0.722303\n",
      "(Epoch 71 / 100) train acc: 0.786000; val_acc: 0.549000\n",
      "(Iteration 11601 / 16300) loss: 0.771268\n",
      "(Iteration 11701 / 16300) loss: 0.743429\n",
      "(Epoch 72 / 100) train acc: 0.779000; val_acc: 0.545000\n",
      "(Iteration 11801 / 16300) loss: 0.646754\n",
      "(Epoch 73 / 100) train acc: 0.805000; val_acc: 0.546000\n",
      "(Iteration 11901 / 16300) loss: 0.669777\n",
      "(Iteration 12001 / 16300) loss: 0.729667\n",
      "(Epoch 74 / 100) train acc: 0.797000; val_acc: 0.550000\n",
      "(Iteration 12101 / 16300) loss: 0.689259\n",
      "(Iteration 12201 / 16300) loss: 0.739846\n",
      "(Epoch 75 / 100) train acc: 0.779000; val_acc: 0.546000\n",
      "(Iteration 12301 / 16300) loss: 0.703750\n",
      "(Epoch 76 / 100) train acc: 0.774000; val_acc: 0.546000\n",
      "(Iteration 12401 / 16300) loss: 0.710695\n",
      "(Iteration 12501 / 16300) loss: 0.718273\n",
      "(Epoch 77 / 100) train acc: 0.770000; val_acc: 0.546000\n",
      "(Iteration 12601 / 16300) loss: 0.712624\n",
      "(Iteration 12701 / 16300) loss: 0.624527\n",
      "(Epoch 78 / 100) train acc: 0.779000; val_acc: 0.542000\n",
      "(Iteration 12801 / 16300) loss: 0.756761\n",
      "(Epoch 79 / 100) train acc: 0.814000; val_acc: 0.543000\n",
      "(Iteration 12901 / 16300) loss: 0.735090\n",
      "(Iteration 13001 / 16300) loss: 0.686036\n",
      "(Epoch 80 / 100) train acc: 0.788000; val_acc: 0.544000\n",
      "(Iteration 13101 / 16300) loss: 0.769759\n",
      "(Iteration 13201 / 16300) loss: 0.719529\n",
      "(Epoch 81 / 100) train acc: 0.792000; val_acc: 0.542000\n",
      "(Iteration 13301 / 16300) loss: 0.628837\n",
      "(Epoch 82 / 100) train acc: 0.785000; val_acc: 0.541000\n",
      "(Iteration 13401 / 16300) loss: 0.745516\n",
      "(Iteration 13501 / 16300) loss: 0.796780\n",
      "(Epoch 83 / 100) train acc: 0.792000; val_acc: 0.540000\n",
      "(Iteration 13601 / 16300) loss: 0.798414\n",
      "(Epoch 84 / 100) train acc: 0.790000; val_acc: 0.541000\n",
      "(Iteration 13701 / 16300) loss: 0.601456\n",
      "(Iteration 13801 / 16300) loss: 0.692422\n",
      "(Epoch 85 / 100) train acc: 0.777000; val_acc: 0.544000\n",
      "(Iteration 13901 / 16300) loss: 0.709894\n",
      "(Iteration 14001 / 16300) loss: 0.716110\n",
      "(Epoch 86 / 100) train acc: 0.798000; val_acc: 0.547000\n",
      "(Iteration 14101 / 16300) loss: 0.675765\n",
      "(Epoch 87 / 100) train acc: 0.791000; val_acc: 0.543000\n",
      "(Iteration 14201 / 16300) loss: 0.644632\n",
      "(Iteration 14301 / 16300) loss: 0.717509\n",
      "(Epoch 88 / 100) train acc: 0.769000; val_acc: 0.544000\n",
      "(Iteration 14401 / 16300) loss: 0.713560\n",
      "(Iteration 14501 / 16300) loss: 0.791018\n",
      "(Epoch 89 / 100) train acc: 0.806000; val_acc: 0.543000\n",
      "(Iteration 14601 / 16300) loss: 0.669843\n",
      "(Epoch 90 / 100) train acc: 0.795000; val_acc: 0.544000\n",
      "(Iteration 14701 / 16300) loss: 0.662461\n",
      "(Iteration 14801 / 16300) loss: 0.749405\n",
      "(Epoch 91 / 100) train acc: 0.796000; val_acc: 0.543000\n",
      "(Iteration 14901 / 16300) loss: 0.754061\n",
      "(Epoch 92 / 100) train acc: 0.790000; val_acc: 0.547000\n",
      "(Iteration 15001 / 16300) loss: 0.766029\n",
      "(Iteration 15101 / 16300) loss: 0.747016\n",
      "(Epoch 93 / 100) train acc: 0.790000; val_acc: 0.547000\n",
      "(Iteration 15201 / 16300) loss: 0.723874\n",
      "(Iteration 15301 / 16300) loss: 0.708277\n",
      "(Epoch 94 / 100) train acc: 0.785000; val_acc: 0.542000\n",
      "(Iteration 15401 / 16300) loss: 0.649363\n",
      "(Epoch 95 / 100) train acc: 0.793000; val_acc: 0.544000\n",
      "(Iteration 15501 / 16300) loss: 0.671376\n",
      "(Iteration 15601 / 16300) loss: 0.712761\n",
      "(Epoch 96 / 100) train acc: 0.798000; val_acc: 0.546000\n",
      "(Iteration 15701 / 16300) loss: 0.758568\n",
      "(Iteration 15801 / 16300) loss: 0.686465\n",
      "(Epoch 97 / 100) train acc: 0.791000; val_acc: 0.545000\n",
      "(Iteration 15901 / 16300) loss: 0.704199\n",
      "(Epoch 98 / 100) train acc: 0.784000; val_acc: 0.547000\n",
      "(Iteration 16001 / 16300) loss: 0.712083\n",
      "(Iteration 16101 / 16300) loss: 0.689087\n",
      "(Epoch 99 / 100) train acc: 0.801000; val_acc: 0.539000\n",
      "(Iteration 16201 / 16300) loss: 0.656881\n",
      "(Epoch 100 / 100) train acc: 0.787000; val_acc: 0.542000\n"
     ]
    }
   ],
   "source": [
    "model = TwoLayerNet(hidden_dim=200,reg=0.01)\n",
    "solver = None\n",
    "\n",
    "data = {\n",
    "  'X_train': data['X_train'],\n",
    "  'y_train': data['y_train'],\n",
    "  'X_val': data['X_val'],\n",
    "  'y_val': data['y_val'],\n",
    "}\n",
    "\n",
    "solver = Solver(model, data,\n",
    "                update_rule='sgd',\n",
    "                optim_config={\n",
    "                  'learning_rate': 0.001,\n",
    "                },\n",
    "                lr_decay=0.95,\n",
    "                num_epochs=100, batch_size=300,\n",
    "                print_every=100,\n",
    "               verbose=True)\n",
    "solver.train()\n",
    "\n",
    "##############################################################################\n",
    "# TODO: Use a Solver instance to train a TwoLayerNet that achieves at least  #\n",
    "# 50% accuracy on the validation set.                                        #\n",
    "##############################################################################\n",
    "\n",
    "##############################################################################\n",
    "#                             END OF YOUR CODE                               #\n",
    "##############################################################################"
   ]
  },
  {
   "cell_type": "code",
   "execution_count": null,
   "metadata": {
    "collapsed": false
   },
   "outputs": [],
   "source": [
    "# Run this cell to visualize training loss and train / val accuracy\n",
    "\n",
    "plt.subplot(2, 1, 1)\n",
    "plt.title('Training loss')\n",
    "plt.plot(solver.loss_history, 'o')\n",
    "plt.xlabel('Iteration')\n",
    "\n",
    "plt.subplot(2, 1, 2)\n",
    "plt.title('Accuracy')\n",
    "plt.plot(solver.train_acc_history, '-o', label='train')\n",
    "plt.plot(solver.val_acc_history, '-o', label='val')\n",
    "plt.plot([0.5] * len(solver.val_acc_history), 'k--')\n",
    "plt.xlabel('Epoch')\n",
    "plt.legend(loc='lower right')\n",
    "plt.gcf().set_size_inches(15, 12)\n",
    "plt.show()"
   ]
  },
  {
   "cell_type": "markdown",
   "metadata": {},
   "source": [
    "# Multilayer network\n",
    "Next you will implement a fully-connected network with an arbitrary number of hidden layers.\n",
    "\n",
    "Read through the `FullyConnectedNet` class in the file `cs231n/classifiers/fc_net.py`.\n",
    "\n",
    "Implement the initialization, the forward pass, and the backward pass. For the moment don't worry about implementing dropout or batch/layer normalization; we will add those features soon."
   ]
  },
  {
   "cell_type": "markdown",
   "metadata": {},
   "source": [
    "## Initial loss and gradient check"
   ]
  },
  {
   "cell_type": "markdown",
   "metadata": {},
   "source": [
    "As a sanity check, run the following to check the initial loss and to gradient check the network both with and without regularization. Do the initial losses seem reasonable?\n",
    "\n",
    "For gradient checking, you should expect to see errors around 1e-7 or less."
   ]
  },
  {
   "cell_type": "code",
   "execution_count": 3,
   "metadata": {
    "collapsed": false
   },
   "outputs": [
    {
     "name": "stdout",
     "output_type": "stream",
     "text": [
      "Running check with reg =  0\n",
      "Initial loss:  2.30047908977\n",
      "W1 relative error: 1.48e-07\n",
      "W2 relative error: 2.21e-05\n",
      "W3 relative error: 3.53e-07\n",
      "b1 relative error: 5.38e-09\n",
      "b2 relative error: 2.09e-09\n",
      "b3 relative error: 5.80e-11\n",
      "Running check with reg =  3.14\n",
      "Initial loss:  7.05211477653\n",
      "W1 relative error: 6.86e-09\n",
      "W2 relative error: 3.52e-08\n",
      "W3 relative error: 1.32e-08\n",
      "b1 relative error: 1.48e-08\n",
      "b2 relative error: 1.72e-09\n",
      "b3 relative error: 1.80e-10\n"
     ]
    }
   ],
   "source": [
    "np.random.seed(231)\n",
    "N, D, H1, H2, C = 2, 15, 20, 30, 10\n",
    "X = np.random.randn(N, D)\n",
    "y = np.random.randint(C, size=(N,))\n",
    "\n",
    "for reg in [0, 3.14]:\n",
    "  print('Running check with reg = ', reg)\n",
    "  model = FullyConnectedNet([H1, H2], input_dim=D, num_classes=C,\n",
    "                            reg=reg, weight_scale=5e-2, dtype=np.float64)\n",
    "\n",
    "  loss, grads = model.loss(X, y)\n",
    "  print('Initial loss: ', loss)\n",
    "  \n",
    "  # Most of the errors should be on the order of e-7 or smaller.   \n",
    "  # NOTE: It is fine however to see an error for W2 on the order of e-5\n",
    "  # for the check when reg = 0.0\n",
    "  for name in sorted(grads):\n",
    "    f = lambda _: model.loss(X, y)[0]\n",
    "    grad_num = eval_numerical_gradient(f, model.params[name], verbose=False, h=1e-5)\n",
    "    print('%s relative error: %.2e' % (name, rel_error(grad_num, grads[name])))"
   ]
  },
  {
   "cell_type": "markdown",
   "metadata": {},
   "source": [
    "As another sanity check, make sure you can overfit a small dataset of 50 images. First we will try a three-layer network with 100 units in each hidden layer. In the following cell, tweak the learning rate and initialization scale to overfit and achieve 100% training accuracy within 20 epochs."
   ]
  },
  {
   "cell_type": "code",
   "execution_count": 6,
   "metadata": {
    "collapsed": false,
    "scrolled": false
   },
   "outputs": [
    {
     "name": "stdout",
     "output_type": "stream",
     "text": [
      "(Iteration 1 / 40) loss: 2.305053\n",
      "(Epoch 0 / 20) train acc: 0.300000; val_acc: 0.125000\n",
      "(Epoch 1 / 20) train acc: 0.380000; val_acc: 0.161000\n",
      "(Epoch 2 / 20) train acc: 0.320000; val_acc: 0.173000\n",
      "(Epoch 3 / 20) train acc: 0.540000; val_acc: 0.155000\n",
      "(Epoch 4 / 20) train acc: 0.640000; val_acc: 0.182000\n",
      "(Epoch 5 / 20) train acc: 0.580000; val_acc: 0.202000\n",
      "(Iteration 11 / 40) loss: 0.965491\n",
      "(Epoch 6 / 20) train acc: 0.720000; val_acc: 0.161000\n",
      "(Epoch 7 / 20) train acc: 0.840000; val_acc: 0.217000\n",
      "(Epoch 8 / 20) train acc: 0.840000; val_acc: 0.163000\n",
      "(Epoch 9 / 20) train acc: 0.960000; val_acc: 0.199000\n",
      "(Epoch 10 / 20) train acc: 0.960000; val_acc: 0.191000\n",
      "(Iteration 21 / 40) loss: 0.224380\n",
      "(Epoch 11 / 20) train acc: 0.980000; val_acc: 0.207000\n",
      "(Epoch 12 / 20) train acc: 0.980000; val_acc: 0.198000\n",
      "(Epoch 13 / 20) train acc: 1.000000; val_acc: 0.215000\n",
      "(Epoch 14 / 20) train acc: 0.980000; val_acc: 0.185000\n",
      "(Epoch 15 / 20) train acc: 1.000000; val_acc: 0.210000\n",
      "(Iteration 31 / 40) loss: 0.062828\n",
      "(Epoch 16 / 20) train acc: 1.000000; val_acc: 0.200000\n",
      "(Epoch 17 / 20) train acc: 1.000000; val_acc: 0.201000\n",
      "(Epoch 18 / 20) train acc: 1.000000; val_acc: 0.207000\n",
      "(Epoch 19 / 20) train acc: 1.000000; val_acc: 0.208000\n",
      "(Epoch 20 / 20) train acc: 1.000000; val_acc: 0.210000\n"
     ]
    },
    {
     "data": {
      "image/png": "[encoded data removed]",
      "text/plain": [
       "<matplotlib.figure.Figure at 0x7f7d67147c50>"
      ]
     },
     "metadata": {},
     "output_type": "display_data"
    }
   ],
   "source": [
    "# TODO: Use a three-layer Net to overfit 50 training examples by \n",
    "# tweaking just the learning rate and initialization scale.\n",
    "\n",
    "num_train = 50\n",
    "small_data = {\n",
    "  'X_train': data['X_train'][:num_train],\n",
    "  'y_train': data['y_train'][:num_train],\n",
    "  'X_val': data['X_val'],\n",
    "  'y_val': data['y_val'],\n",
    "}\n",
    "\n",
    "weight_scale = 1e-2\n",
    "learning_rate = 1e-2\n",
    "model = FullyConnectedNet([100, 100],\n",
    "              weight_scale=weight_scale, dtype=np.float64)\n",
    "solver = Solver(model, small_data,\n",
    "                print_every=10, num_epochs=20, batch_size=25,\n",
    "                update_rule='sgd',\n",
    "                optim_config={\n",
    "                  'learning_rate': learning_rate,\n",
    "                }\n",
    "         )\n",
    "solver.train()\n",
    "\n",
    "plt.plot(solver.loss_history, 'o')\n",
    "plt.title('Training loss history')\n",
    "plt.xlabel('Iteration')\n",
    "plt.ylabel('Training loss')\n",
    "plt.show()"
   ]
  },
  {
   "cell_type": "markdown",
   "metadata": {},
   "source": [
    "Now try to use a five-layer network with 100 units on each layer to overfit 50 training examples. Again you will have to adjust the learning rate and weight initialization, but you should be able to achieve 100% training accuracy within 20 epochs."
   ]
  },
  {
   "cell_type": "code",
   "execution_count": 43,
   "metadata": {
    "collapsed": false
   },
   "outputs": [
    {
     "name": "stdout",
     "output_type": "stream",
     "text": [
      "(Iteration 1 / 40) loss: 158.748715\n",
      "(Epoch 0 / 20) train acc: 0.160000; val_acc: 0.112000\n",
      "(Epoch 1 / 20) train acc: 0.180000; val_acc: 0.097000\n",
      "(Epoch 2 / 20) train acc: 0.200000; val_acc: 0.111000\n",
      "(Epoch 3 / 20) train acc: 0.480000; val_acc: 0.115000\n",
      "(Epoch 4 / 20) train acc: 0.680000; val_acc: 0.117000\n",
      "(Epoch 5 / 20) train acc: 0.720000; val_acc: 0.120000\n",
      "(Iteration 11 / 40) loss: 3.060483\n",
      "(Epoch 6 / 20) train acc: 0.840000; val_acc: 0.112000\n",
      "(Epoch 7 / 20) train acc: 0.800000; val_acc: 0.112000\n",
      "(Epoch 8 / 20) train acc: 0.920000; val_acc: 0.115000\n",
      "(Epoch 9 / 20) train acc: 0.960000; val_acc: 0.120000\n",
      "(Epoch 10 / 20) train acc: 0.980000; val_acc: 0.119000\n",
      "(Iteration 21 / 40) loss: 0.182175\n",
      "(Epoch 11 / 20) train acc: 0.980000; val_acc: 0.119000\n",
      "(Epoch 12 / 20) train acc: 0.980000; val_acc: 0.120000\n",
      "(Epoch 13 / 20) train acc: 0.980000; val_acc: 0.121000\n",
      "(Epoch 14 / 20) train acc: 0.980000; val_acc: 0.121000\n",
      "(Epoch 15 / 20) train acc: 0.980000; val_acc: 0.120000\n",
      "(Iteration 31 / 40) loss: 0.002536\n",
      "(Epoch 16 / 20) train acc: 0.980000; val_acc: 0.120000\n",
      "(Epoch 17 / 20) train acc: 1.000000; val_acc: 0.122000\n",
      "(Epoch 18 / 20) train acc: 1.000000; val_acc: 0.123000\n",
      "(Epoch 19 / 20) train acc: 1.000000; val_acc: 0.123000\n",
      "(Epoch 20 / 20) train acc: 1.000000; val_acc: 0.123000\n"
     ]
    },
    {
     "data": {
      "image/png": "[encoded data removed]",
      "text/plain": [
       "<matplotlib.figure.Figure at 0x7f7d66d7dc18>"
      ]
     },
     "metadata": {},
     "output_type": "display_data"
    }
   ],
   "source": [
    "# TODO: Use a five-layer Net to overfit 50 training examples by \n",
    "# tweaking just the learning rate and initialization scale.\n",
    "\n",
    "num_train = 50\n",
    "small_data = {\n",
    "  'X_train': data['X_train'][:num_train],\n",
    "  'y_train': data['y_train'][:num_train],\n",
    "  'X_val': data['X_val'],\n",
    "  'y_val': data['y_val'],\n",
    "}\n",
    "\n",
    "learning_rate = 2e-3\n",
    "weight_scale = 1e-1\n",
    "\n",
    "model = FullyConnectedNet([100, 100, 100, 100],\n",
    "                weight_scale=weight_scale, dtype=np.float64)\n",
    "solver = Solver(model, small_data,\n",
    "                print_every=10, num_epochs=20, batch_size=25,\n",
    "                update_rule='sgd',\n",
    "                optim_config={\n",
    "                  'learning_rate': learning_rate,\n",
    "                }\n",
    "         )\n",
    "solver.train()\n",
    "\n",
    "plt.plot(solver.loss_history, 'o')\n",
    "plt.title('Training loss history')\n",
    "plt.xlabel('Iteration')\n",
    "plt.ylabel('Training loss')\n",
    "plt.show()"
   ]
  },
  {
   "cell_type": "markdown",
   "metadata": {},
   "source": [
    "## Inline Question 2: \n",
    "Did you notice anything about the comparative difficulty of training the three-layer net vs training the five layer net? In particular, based on your experience, which network seemed more sensitive to the initialization scale? Why do you think that is the case?"
   ]
  },
  {
   "cell_type": "markdown",
   "metadata": {},
   "source": [
    "## Answer:\n",
    "[FILL THIS IN]\n"
   ]
  },
  {
   "cell_type": "markdown",
   "metadata": {},
   "source": [
    "# Update rules\n",
    "So far we have used vanilla stochastic gradient descent (SGD) as our update rule. More sophisticated update rules can make it easier to train deep networks. We will implement a few of the most commonly used update rules and compare them to vanilla SGD."
   ]
  },
  {
   "cell_type": "markdown",
   "metadata": {},
   "source": [
    "# SGD+Momentum\n",
    "Stochastic gradient descent with momentum is a widely used update rule that tends to make deep networks converge faster than vanilla stochastic gradient descent. See the Momentum Update section at http://cs231n.github.io/neural-networks-3/#sgd for more information.\n",
    "\n",
    "Open the file `cs231n/optim.py` and read the documentation at the top of the file to make sure you understand the API. Implement the SGD+momentum update rule in the function `sgd_momentum` and run the following to check your implementation. You should see errors less than e-8."
   ]
  },
  {
   "cell_type": "code",
   "execution_count": 3,
   "metadata": {
    "collapsed": false
   },
   "outputs": [
    {
     "name": "stdout",
     "output_type": "stream",
     "text": [
      "next_w error:  8.88234703351e-09\n",
      "velocity error:  4.26928774328e-09\n"
     ]
    }
   ],
   "source": [
    "from cs231n.optim import sgd_momentum\n",
    "\n",
    "N, D = 4, 5\n",
    "w = np.linspace(-0.4, 0.6, num=N*D).reshape(N, D)\n",
    "dw = np.linspace(-0.6, 0.4, num=N*D).reshape(N, D)\n",
    "v = np.linspace(0.6, 0.9, num=N*D).reshape(N, D)\n",
    "\n",
    "config = {'learning_rate': 1e-3, 'velocity': v}\n",
    "next_w, _ = sgd_momentum(w, dw, config=config)\n",
    "\n",
    "expected_next_w = np.asarray([\n",
    "  [ 0.1406,      0.20738947,  0.27417895,  0.34096842,  0.40775789],\n",
    "  [ 0.47454737,  0.54133684,  0.60812632,  0.67491579,  0.74170526],\n",
    "  [ 0.80849474,  0.87528421,  0.94207368,  1.00886316,  1.07565263],\n",
    "  [ 1.14244211,  1.20923158,  1.27602105,  1.34281053,  1.4096    ]])\n",
    "expected_velocity = np.asarray([\n",
    "  [ 0.5406,      0.55475789,  0.56891579, 0.58307368,  0.59723158],\n",
    "  [ 0.61138947,  0.62554737,  0.63970526,  0.65386316,  0.66802105],\n",
    "  [ 0.68217895,  0.69633684,  0.71049474,  0.72465263,  0.73881053],\n",
    "  [ 0.75296842,  0.76712632,  0.78128421,  0.79544211,  0.8096    ]])\n",
    "\n",
    "# Should see relative errors around e-8 or less\n",
    "print('next_w error: ', rel_error(next_w, expected_next_w))\n",
    "print('velocity error: ', rel_error(expected_velocity, config['velocity']))"
   ]
  },
  {
   "cell_type": "markdown",
   "metadata": {},
   "source": [
    "Once you have done so, run the following to train a six-layer network with both SGD and SGD+momentum. You should see the SGD+momentum update rule converge faster."
   ]
  },
  {
   "cell_type": "code",
   "execution_count": 16,
   "metadata": {
    "collapsed": false,
    "scrolled": false
   },
   "outputs": [
    {
     "name": "stdout",
     "output_type": "stream",
     "text": [
      "running with  sgd\n",
      "(Iteration 1 / 200) loss: 3.044168\n",
      "(Epoch 0 / 5) train acc: 0.099000; val_acc: 0.096000\n",
      "(Iteration 11 / 200) loss: 2.233617\n",
      "(Iteration 21 / 200) loss: 2.152746\n",
      "(Iteration 31 / 200) loss: 2.004581\n",
      "(Epoch 1 / 5) train acc: 0.279000; val_acc: 0.264000\n",
      "(Iteration 41 / 200) loss: 2.069003\n",
      "(Iteration 51 / 200) loss: 1.999469\n",
      "(Iteration 61 / 200) loss: 1.859647\n",
      "(Iteration 71 / 200) loss: 1.753560\n",
      "(Epoch 2 / 5) train acc: 0.331000; val_acc: 0.295000\n",
      "(Iteration 81 / 200) loss: 1.943486\n",
      "(Iteration 91 / 200) loss: 1.837755\n",
      "(Iteration 101 / 200) loss: 1.837984\n",
      "(Iteration 111 / 200) loss: 1.750374\n",
      "(Epoch 3 / 5) train acc: 0.361000; val_acc: 0.312000\n",
      "(Iteration 121 / 200) loss: 1.675975\n",
      "(Iteration 131 / 200) loss: 1.646136\n",
      "(Iteration 141 / 200) loss: 1.803430\n",
      "(Iteration 151 / 200) loss: 1.755305\n",
      "(Epoch 4 / 5) train acc: 0.374000; val_acc: 0.330000\n",
      "(Iteration 161 / 200) loss: 1.658448\n",
      "(Iteration 171 / 200) loss: 1.701464\n",
      "(Iteration 181 / 200) loss: 1.653600\n",
      "(Iteration 191 / 200) loss: 1.634791\n",
      "(Epoch 5 / 5) train acc: 0.427000; val_acc: 0.335000\n",
      "\n",
      "running with  sgd_momentum\n",
      "(Iteration 1 / 200) loss: 2.625394\n",
      "(Epoch 0 / 5) train acc: 0.093000; val_acc: 0.124000\n",
      "(Iteration 11 / 200) loss: 2.211330\n",
      "(Iteration 21 / 200) loss: 1.960582\n",
      "(Iteration 31 / 200) loss: 2.030018\n",
      "(Epoch 1 / 5) train acc: 0.321000; val_acc: 0.255000\n",
      "(Iteration 41 / 200) loss: 1.973579\n",
      "(Iteration 51 / 200) loss: 1.815478\n",
      "(Iteration 61 / 200) loss: 1.841547\n",
      "(Iteration 71 / 200) loss: 1.596944\n",
      "(Epoch 2 / 5) train acc: 0.387000; val_acc: 0.306000\n",
      "(Iteration 81 / 200) loss: 1.674685\n",
      "(Iteration 91 / 200) loss: 1.701322\n",
      "(Iteration 101 / 200) loss: 1.725805\n",
      "(Iteration 111 / 200) loss: 1.530335\n",
      "(Epoch 3 / 5) train acc: 0.451000; val_acc: 0.335000\n",
      "(Iteration 121 / 200) loss: 1.599631\n",
      "(Iteration 131 / 200) loss: 1.387572\n",
      "(Iteration 141 / 200) loss: 1.427094\n",
      "(Iteration 151 / 200) loss: 1.614839\n",
      "(Epoch 4 / 5) train acc: 0.469000; val_acc: 0.363000\n",
      "(Iteration 161 / 200) loss: 1.452914\n",
      "(Iteration 171 / 200) loss: 1.530564\n",
      "(Iteration 181 / 200) loss: 1.452483\n",
      "(Iteration 191 / 200) loss: 1.446642\n",
      "(Epoch 5 / 5) train acc: 0.517000; val_acc: 0.369000\n",
      "\n"
     ]
    },
    {
     "data": {
      "image/png": "[encoded data removed]",
      "text/plain": [
       "<matplotlib.figure.Figure at 0x7f72623ecdd8>"
      ]
     },
     "metadata": {},
     "output_type": "display_data"
    }
   ],
   "source": [
    "num_train = 4000\n",
    "small_data = {\n",
    "  'X_train': data['X_train'][:num_train],\n",
    "  'y_train': data['y_train'][:num_train],\n",
    "  'X_val': data['X_val'],\n",
    "  'y_val': data['y_val'],\n",
    "}\n",
    "\n",
    "solvers = {}\n",
    "\n",
    "for update_rule in ['sgd', 'sgd_momentum']:\n",
    "  print('running with ', update_rule)\n",
    "  model = FullyConnectedNet([100, 100, 100, 100, 100], weight_scale=5e-2)\n",
    "\n",
    "  solver = Solver(model, small_data,\n",
    "                  num_epochs=5, batch_size=100,\n",
    "                  update_rule=update_rule,\n",
    "                  optim_config={\n",
    "                    'learning_rate': 1e-2,\n",
    "                  },\n",
    "                  verbose=True)\n",
    "  solvers[update_rule] = solver\n",
    "  solver.train()\n",
    "  print()\n",
    "\n",
    "plt.subplot(3, 1, 1)\n",
    "plt.title('Training loss')\n",
    "plt.xlabel('Iteration')\n",
    "\n",
    "plt.subplot(3, 1, 2)\n",
    "plt.title('Training accuracy')\n",
    "plt.xlabel('Epoch')\n",
    "\n",
    "plt.subplot(3, 1, 3)\n",
    "plt.title('Validation accuracy')\n",
    "plt.xlabel('Epoch')\n",
    "\n",
    "for update_rule, solver in list(solvers.items()):\n",
    "  plt.subplot(3, 1, 1)\n",
    "  plt.plot(solver.loss_history, 'o', label=update_rule)\n",
    "  \n",
    "  plt.subplot(3, 1, 2)\n",
    "  plt.plot(solver.train_acc_history, '-o', label=update_rule)\n",
    "\n",
    "  plt.subplot(3, 1, 3)\n",
    "  plt.plot(solver.val_acc_history, '-o', label=update_rule)\n",
    "  \n",
    "for i in [1, 2, 3]:\n",
    "  plt.subplot(3, 1, i)\n",
    "  plt.legend(loc='upper center', ncol=4)\n",
    "plt.gcf().set_size_inches(15, 15)\n",
    "plt.show()"
   ]
  },
  {
   "cell_type": "markdown",
   "metadata": {},
   "source": [
    "# RMSProp and Adam\n",
    "RMSProp [1] and Adam [2] are update rules that set per-parameter learning rates by using a running average of the second moments of gradients.\n",
    "\n",
    "In the file `cs231n/optim.py`, implement the RMSProp update rule in the `rmsprop` function and implement the Adam update rule in the `adam` function, and check your implementations using the tests below.\n",
    "\n",
    "**NOTE:** Please implement the _complete_ Adam update rule (with the bias correction mechanism), not the first simplified version mentioned in the course notes. \n",
    "\n",
    "[1] Tijmen Tieleman and Geoffrey Hinton. \"Lecture 6.5-rmsprop: Divide the gradient by a running average of its recent magnitude.\" COURSERA: Neural Networks for Machine Learning 4 (2012).\n",
    "\n",
    "[2] Diederik Kingma and Jimmy Ba, \"Adam: A Method for Stochastic Optimization\", ICLR 2015."
   ]
  },
  {
   "cell_type": "code",
   "execution_count": 13,
   "metadata": {
    "collapsed": false
   },
   "outputs": [
    {
     "name": "stdout",
     "output_type": "stream",
     "text": [
      "next_w error:  9.52468751104e-08\n",
      "cache error:  2.64779558072e-09\n"
     ]
    }
   ],
   "source": [
    "# Test RMSProp implementation\n",
    "from cs231n.optim import rmsprop\n",
    "\n",
    "N, D = 4, 5\n",
    "w = np.linspace(-0.4, 0.6, num=N*D).reshape(N, D)\n",
    "dw = np.linspace(-0.6, 0.4, num=N*D).reshape(N, D)\n",
    "cache = np.linspace(0.6, 0.9, num=N*D).reshape(N, D)\n",
    "\n",
    "config = {'learning_rate': 1e-2, 'cache': cache}\n",
    "next_w, _ = rmsprop(w, dw, config=config)\n",
    "\n",
    "expected_next_w = np.asarray([\n",
    "  [-0.39223849, -0.34037513, -0.28849239, -0.23659121, -0.18467247],\n",
    "  [-0.132737,   -0.08078555, -0.02881884,  0.02316247,  0.07515774],\n",
    "  [ 0.12716641,  0.17918792,  0.23122175,  0.28326742,  0.33532447],\n",
    "  [ 0.38739248,  0.43947102,  0.49155973,  0.54365823,  0.59576619]])\n",
    "expected_cache = np.asarray([\n",
    "  [ 0.5976,      0.6126277,   0.6277108,   0.64284931,  0.65804321],\n",
    "  [ 0.67329252,  0.68859723,  0.70395734,  0.71937285,  0.73484377],\n",
    "  [ 0.75037008,  0.7659518,   0.78158892,  0.79728144,  0.81302936],\n",
    "  [ 0.82883269,  0.84469141,  0.86060554,  0.87657507,  0.8926    ]])\n",
    "\n",
    "# You should see relative errors around e-7 or less\n",
    "print('next_w error: ', rel_error(expected_next_w, next_w))\n",
    "print('cache error: ', rel_error(expected_cache, config['cache']))"
   ]
  },
  {
   "cell_type": "code",
   "execution_count": 14,
   "metadata": {
    "collapsed": false
   },
   "outputs": [
    {
     "name": "stdout",
     "output_type": "stream",
     "text": [
      "next_w error:  1.13956917985e-07\n",
      "v error:  4.20831403811e-09\n",
      "m error:  4.21496319311e-09\n"
     ]
    }
   ],
   "source": [
    "# Test Adam implementation\n",
    "from cs231n.optim import adam\n",
    "\n",
    "N, D = 4, 5\n",
    "w = np.linspace(-0.4, 0.6, num=N*D).reshape(N, D)\n",
    "dw = np.linspace(-0.6, 0.4, num=N*D).reshape(N, D)\n",
    "m = np.linspace(0.6, 0.9, num=N*D).reshape(N, D)\n",
    "v = np.linspace(0.7, 0.5, num=N*D).reshape(N, D)\n",
    "\n",
    "config = {'learning_rate': 1e-2, 'm': m, 'v': v, 't': 5}\n",
    "next_w, _ = adam(w, dw, config=config)\n",
    "\n",
    "expected_next_w = np.asarray([\n",
    "  [-0.40094747, -0.34836187, -0.29577703, -0.24319299, -0.19060977],\n",
    "  [-0.1380274,  -0.08544591, -0.03286534,  0.01971428,  0.0722929],\n",
    "  [ 0.1248705,   0.17744702,  0.23002243,  0.28259667,  0.33516969],\n",
    "  [ 0.38774145,  0.44031188,  0.49288093,  0.54544852,  0.59801459]])\n",
    "expected_v = np.asarray([\n",
    "  [ 0.69966,     0.68908382,  0.67851319,  0.66794809,  0.65738853,],\n",
    "  [ 0.64683452,  0.63628604,  0.6257431,   0.61520571,  0.60467385,],\n",
    "  [ 0.59414753,  0.58362676,  0.57311152,  0.56260183,  0.55209767,],\n",
    "  [ 0.54159906,  0.53110598,  0.52061845,  0.51013645,  0.49966,   ]])\n",
    "expected_m = np.asarray([\n",
    "  [ 0.48,        0.49947368,  0.51894737,  0.53842105,  0.55789474],\n",
    "  [ 0.57736842,  0.59684211,  0.61631579,  0.63578947,  0.65526316],\n",
    "  [ 0.67473684,  0.69421053,  0.71368421,  0.73315789,  0.75263158],\n",
    "  [ 0.77210526,  0.79157895,  0.81105263,  0.83052632,  0.85      ]])\n",
    "\n",
    "# You should see relative errors around e-7 or less\n",
    "print('next_w error: ', rel_error(expected_next_w, next_w))\n",
    "print('v error: ', rel_error(expected_v, config['v']))\n",
    "print('m error: ', rel_error(expected_m, config['m']))"
   ]
  },
  {
   "cell_type": "markdown",
   "metadata": {},
   "source": [
    "Once you have debugged your RMSProp and Adam implementations, run the following to train a pair of deep networks using these new update rules:"
   ]
  },
  {
   "cell_type": "code",
   "execution_count": 17,
   "metadata": {
    "collapsed": false
   },
   "outputs": [
    {
     "name": "stdout",
     "output_type": "stream",
     "text": [
      "running with  adam\n",
      "(Iteration 1 / 200) loss: 2.531211\n",
      "(Epoch 0 / 5) train acc: 0.123000; val_acc: 0.121000\n",
      "(Iteration 11 / 200) loss: 2.100190\n",
      "(Iteration 21 / 200) loss: 1.862115\n",
      "(Iteration 31 / 200) loss: 1.691340\n",
      "(Epoch 1 / 5) train acc: 0.345000; val_acc: 0.315000\n",
      "(Iteration 41 / 200) loss: 1.876533\n",
      "(Iteration 51 / 200) loss: 1.867243\n",
      "(Iteration 61 / 200) loss: 1.842348\n",
      "(Iteration 71 / 200) loss: 1.571504\n",
      "(Epoch 2 / 5) train acc: 0.468000; val_acc: 0.360000\n",
      "(Iteration 81 / 200) loss: 1.454120\n",
      "(Iteration 91 / 200) loss: 1.651269\n",
      "(Iteration 101 / 200) loss: 1.671675\n",
      "(Iteration 111 / 200) loss: 1.368623\n",
      "(Epoch 3 / 5) train acc: 0.521000; val_acc: 0.373000\n",
      "(Iteration 121 / 200) loss: 1.348453\n",
      "(Iteration 131 / 200) loss: 1.578613\n",
      "(Iteration 141 / 200) loss: 1.286702\n",
      "(Iteration 151 / 200) loss: 1.293452\n",
      "(Epoch 4 / 5) train acc: 0.567000; val_acc: 0.380000\n",
      "(Iteration 161 / 200) loss: 1.194609\n",
      "(Iteration 171 / 200) loss: 1.406134\n",
      "(Iteration 181 / 200) loss: 1.188510\n",
      "(Iteration 191 / 200) loss: 1.159377\n",
      "(Epoch 5 / 5) train acc: 0.600000; val_acc: 0.399000\n",
      "\n",
      "running with  rmsprop\n",
      "(Iteration 1 / 200) loss: 3.027869\n",
      "(Epoch 0 / 5) train acc: 0.124000; val_acc: 0.121000\n",
      "(Iteration 11 / 200) loss: 2.065797\n",
      "(Iteration 21 / 200) loss: 2.028464\n",
      "(Iteration 31 / 200) loss: 1.836516\n",
      "(Epoch 1 / 5) train acc: 0.364000; val_acc: 0.277000\n",
      "(Iteration 41 / 200) loss: 1.827281\n",
      "(Iteration 51 / 200) loss: 1.836525\n",
      "(Iteration 61 / 200) loss: 1.829982\n",
      "(Iteration 71 / 200) loss: 1.690060\n",
      "(Epoch 2 / 5) train acc: 0.422000; val_acc: 0.335000\n",
      "(Iteration 81 / 200) loss: 1.596175\n",
      "(Iteration 91 / 200) loss: 1.720686\n",
      "(Iteration 101 / 200) loss: 1.577410\n",
      "(Iteration 111 / 200) loss: 1.626271\n",
      "(Epoch 3 / 5) train acc: 0.457000; val_acc: 0.341000\n",
      "(Iteration 121 / 200) loss: 1.487108\n",
      "(Iteration 131 / 200) loss: 1.624775\n",
      "(Iteration 141 / 200) loss: 1.587998\n",
      "(Iteration 151 / 200) loss: 1.496121\n",
      "(Epoch 4 / 5) train acc: 0.505000; val_acc: 0.359000\n",
      "(Iteration 161 / 200) loss: 1.327170\n",
      "(Iteration 171 / 200) loss: 1.508325\n",
      "(Iteration 181 / 200) loss: 1.458685\n",
      "(Iteration 191 / 200) loss: 1.352346\n",
      "(Epoch 5 / 5) train acc: 0.554000; val_acc: 0.356000\n",
      "\n"
     ]
    },
    {
     "data": {
      "image/png": "[encoded data removed]",
      "text/plain": [
       "<matplotlib.figure.Figure at 0x7f72602200f0>"
      ]
     },
     "metadata": {},
     "output_type": "display_data"
    }
   ],
   "source": [
    "learning_rates = {'rmsprop': 1e-4, 'adam': 1e-3}\n",
    "for update_rule in ['adam', 'rmsprop']:\n",
    "  print('running with ', update_rule)\n",
    "  model = FullyConnectedNet([100, 100, 100, 100, 100], weight_scale=5e-2)\n",
    "\n",
    "  solver = Solver(model, small_data,\n",
    "                  num_epochs=5, batch_size=100,\n",
    "                  update_rule=update_rule,\n",
    "                  optim_config={\n",
    "                    'learning_rate': learning_rates[update_rule]\n",
    "                  },\n",
    "                  verbose=True)\n",
    "  solvers[update_rule] = solver\n",
    "  solver.train()\n",
    "  print()\n",
    "\n",
    "plt.subplot(3, 1, 1)\n",
    "plt.title('Training loss')\n",
    "plt.xlabel('Iteration')\n",
    "\n",
    "plt.subplot(3, 1, 2)\n",
    "plt.title('Training accuracy')\n",
    "plt.xlabel('Epoch')\n",
    "\n",
    "plt.subplot(3, 1, 3)\n",
    "plt.title('Validation accuracy')\n",
    "plt.xlabel('Epoch')\n",
    "\n",
    "for update_rule, solver in list(solvers.items()):\n",
    "  plt.subplot(3, 1, 1)\n",
    "  plt.plot(solver.loss_history, 'o', label=update_rule)\n",
    "  \n",
    "  plt.subplot(3, 1, 2)\n",
    "  plt.plot(solver.train_acc_history, '-o', label=update_rule)\n",
    "\n",
    "  plt.subplot(3, 1, 3)\n",
    "  plt.plot(solver.val_acc_history, '-o', label=update_rule)\n",
    "  \n",
    "for i in [1, 2, 3]:\n",
    "  plt.subplot(3, 1, i)\n",
    "  plt.legend(loc='upper center', ncol=4)\n",
    "plt.gcf().set_size_inches(15, 15)\n",
    "plt.show()"
   ]
  },
  {
   "cell_type": "markdown",
   "metadata": {},
   "source": [
    "## Inline Question 3:\n",
    "\n",
    "AdaGrad, like Adam, is a per-parameter optimization method that uses the following update rule:\n",
    "\n",
    "```\n",
    "cache += dw**2\n",
    "w += - learning_rate * dw / (np.sqrt(cache) + eps)\n",
    "```\n",
    "\n",
    "John notices that when he was training a network with AdaGrad that the updates became very small, and that his network was learning slowly. Using your knowledge of the AdaGrad update rule, why do you think the updates would become very small? Would Adam have the same issue?\n"
   ]
  },
  {
   "cell_type": "markdown",
   "metadata": {},
   "source": [
    "## Answer: \n"
   ]
  },
  {
   "cell_type": "markdown",
   "metadata": {},
   "source": [
    "# Train a good model!\n",
    "Train the best fully-connected model that you can on CIFAR-10, storing your best model in the `best_model` variable. We require you to get at least 50% accuracy on the validation set using a fully-connected net.\n",
    "\n",
    "If you are careful it should be possible to get accuracies above 55%, but we don't require it for this part and won't assign extra credit for doing so. Later in the assignment we will ask you to train the best convolutional network that you can on CIFAR-10, and we would prefer that you spend your effort working on convolutional nets rather than fully-connected nets.\n",
    "\n",
    "You might find it useful to complete the `BatchNormalization.ipynb` and `Dropout.ipynb` notebooks before completing this part, since those techniques can help you train powerful models."
   ]
  },
  {
   "cell_type": "code",
   "execution_count": null,
   "metadata": {
    "collapsed": true,
    "scrolled": false
   },
   "outputs": [],
   "source": [
    "best_model = None\n",
    "################################################################################\n",
    "# TODO: Train the best FullyConnectedNet that you can on CIFAR-10. You might   #\n",
    "# find batch/layer normalization and dropout useful. Store your best model in  #\n",
    "# the best_model variable.                                                     #\n",
    "################################################################################\n",
    "pass\n",
    "################################################################################\n",
    "#                              END OF YOUR CODE                                #\n",
    "################################################################################"
   ]
  },
  {
   "cell_type": "markdown",
   "metadata": {},
   "source": [
    "# Test your model!\n",
    "Run your best model on the validation and test sets. You should achieve above 50% accuracy on the validation set."
   ]
  },
  {
   "cell_type": "code",
   "execution_count": null,
   "metadata": {
    "collapsed": true
   },
   "outputs": [],
   "source": [
    "y_test_pred = np.argmax(best_model.loss(data['X_test']), axis=1)\n",
    "y_val_pred = np.argmax(best_model.loss(data['X_val']), axis=1)\n",
    "print('Validation set accuracy: ', (y_val_pred == data['y_val']).mean())\n",
    "print('Test set accuracy: ', (y_test_pred == data['y_test']).mean())"
   ]
  }
 ],
 "metadata": {
  "kernelspec": {
   "display_name": "Python 3",
   "language": "python",
   "name": "python3"
  },
  "language_info": {
   "codemirror_mode": {
    "name": "ipython",
    "version": 3
   },
   "file_extension": ".py",
   "mimetype": "text/x-python",
   "name": "python",
   "nbconvert_exporter": "python",
   "pygments_lexer": "ipython3",
   "version": "3.5.2"
  }
 },
 "nbformat": 4,
 "nbformat_minor": 2
}
